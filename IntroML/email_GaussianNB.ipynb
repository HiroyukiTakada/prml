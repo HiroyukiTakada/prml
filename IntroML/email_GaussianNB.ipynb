{
 "cells": [
  {
   "cell_type": "markdown",
   "metadata": {
    "colab_type": "text",
    "id": "ZhoWhxZ2slIy"
   },
   "source": [
    "e-mail author identification by Gaussian Naive Bayes\n",
    "=============================================\n",
    "Lesson 2: Mini-Project, Intro to Machine Learning, Udacity\n",
    "https://classroom.udacity.com/courses/ud120/lessons/2254358555/concepts/30245185880923"
   ]
  },
  {
   "cell_type": "markdown",
   "metadata": {
    "colab_type": "text",
    "id": "WeBUeTv6slI0"
   },
   "source": [
    "email_preprocess.py\n",
    "\n",
    "http://scikit-learn.org/stable/modules/generated/sklearn.feature_extraction.text.TfidfVectorizer.html"
   ]
  },
  {
   "cell_type": "code",
   "execution_count": null,
   "metadata": {
    "colab": {
     "autoexec": {
      "startup": false,
      "wait_interval": 0
     },
     "base_uri": "https://localhost:8080/",
     "height": 372
    },
    "colab_type": "code",
    "executionInfo": {
     "elapsed": 601,
     "status": "error",
     "timestamp": 1523970460211,
     "user": {
      "displayName": "Tomoya Sakai",
      "photoUrl": "//lh4.googleusercontent.com/-A3xDIZwspwc/AAAAAAAAAAI/AAAAAAAAAJM/euJbBfWvU38/s50-c-k-no/photo.jpg",
      "userId": "116384580095209155593"
     },
     "user_tz": -540
    },
    "id": "y0Xic-IeslI0",
    "outputId": "7dc5c96f-ffb2-4091-e16b-c5513855471a"
   },
   "outputs": [],
   "source": [
    "from __future__ import print_function\n",
    "import pickle\n",
    "import cPickle\n",
    "\n",
    "from sklearn.model_selection import train_test_split\n",
    "from sklearn.feature_extraction.text import TfidfVectorizer\n",
    "from sklearn.feature_selection import SelectPercentile, f_classif\n",
    "\n",
    "words_file = \"word_data.pkl\"\n",
    "authors_file=\"email_authors.pkl\"\n",
    "\n",
    "### the words (features) and authors (labels), already largely preprocessed\n",
    "### this preprocessing will be repeated in the text learning mini-project\n",
    "authors_file_handler = open(authors_file, \"r\")\n",
    "authors = pickle.load(authors_file_handler)\n",
    "authors_file_handler.close()\n",
    "\n",
    "words_file_handler = open(words_file, \"r\")\n",
    "word_data = cPickle.load(words_file_handler)\n",
    "words_file_handler.close()"
   ]
  },
  {
   "cell_type": "code",
   "execution_count": null,
   "metadata": {
    "colab": {
     "autoexec": {
      "startup": false,
      "wait_interval": 0
     }
    },
    "colab_type": "code",
    "id": "oKgFc4fIslI3"
   },
   "outputs": [],
   "source": [
    "print(word_data[0])"
   ]
  },
  {
   "cell_type": "markdown",
   "metadata": {
    "colab_type": "text",
    "id": "vzm0-0GuslI5"
   },
   "source": [
    "tf-idf vectorization\n",
    "--------------------\n",
    "takes a pre-made list of email texts (by default word_data.pkl) and the corresponding authors (by default email_authors.pkl) and performs a number of preprocessing steps:\n",
    "        -- splits into training/testing sets (10% testing)\n",
    "        -- vectorizes into tfidf matrix\n",
    "        -- selects/keeps most helpful features\n",
    "after this, the feaures and labels are put into numpy arrays, which play nice with sklearn functions\n",
    "4 objects are returned:\n",
    "            -- training/testing features\n",
    "            -- training/testing labels"
   ]
  },
  {
   "cell_type": "code",
   "execution_count": null,
   "metadata": {
    "colab": {
     "autoexec": {
      "startup": false,
      "wait_interval": 0
     }
    },
    "colab_type": "code",
    "id": "TF0XJic3slI6"
   },
   "outputs": [],
   "source": [
    "### test_size is the percentage of events assigned to the test set\n",
    "### (remainder go into training)\n",
    "features_train_word, features_test_word, labels_train, labels_test = train_test_split(word_data, authors, test_size=0.1, random_state=42)\n",
    "\n",
    "\n",
    "### text vectorization--go from strings to lists of numbers\n",
    "vectorizer = TfidfVectorizer(sublinear_tf=True, max_df=0.5,\n",
    "                                 stop_words='english')\n",
    "features_train_org = vectorizer.fit_transform(features_train_word)\n",
    "features_test_org  = vectorizer.transform(features_test_word)\n",
    "\n",
    "\n",
    "### feature selection, because text is super high dimensional and \n",
    "### can be really computationally chewy as a result\n",
    "selector = SelectPercentile(f_classif, percentile=10)\n",
    "selector.fit(features_train_org, labels_train)\n",
    "features_train = selector.transform(features_train_org).toarray()\n",
    "features_test  = selector.transform(features_test_org).toarray()\n",
    "\n",
    "### info on the data\n",
    "print(\"no. of Chris training emails:\", sum(labels_train))\n",
    "print(\"no. of Sara training emails:\", len(labels_train)-sum(labels_train))\n",
    "\n",
    "#    return features_train_transformed, features_test_transformed, labels_train, labels_test"
   ]
  },
  {
   "cell_type": "code",
   "execution_count": null,
   "metadata": {
    "colab": {
     "autoexec": {
      "startup": false,
      "wait_interval": 0
     }
    },
    "colab_type": "code",
    "id": "suwwBU8zslI8"
   },
   "outputs": [],
   "source": [
    "\"\"\" \n",
    "    This is the code to accompany the Lesson 1 (Naive Bayes) mini-project. \n",
    "\n",
    "    Use a Naive Bayes Classifier to identify emails by their authors\n",
    "    \n",
    "    authors and labels:\n",
    "    Sara has label 0\n",
    "    Chris has label 1\n",
    "\"\"\"\n",
    "    \n",
    "import sys\n",
    "from time import time\n",
    "\n",
    "### features_train and features_test are the features for the training\n",
    "### and testing datasets, respectively\n",
    "### labels_train and labels_test are the corresponding item labels\n",
    "#features_train, features_test, labels_train, labels_test = preprocess()\n",
    "\n",
    "\n",
    "#########################################################\n",
    "### your code goes here ###\n",
    "\n",
    "from sklearn.naive_bayes import GaussianNB\n",
    "clf = GaussianNB()\n",
    "#from sklearn import neighbors\n",
    "#clf = neighbors.KNeighborsClassifier(3)\n",
    "\n",
    "t0 = time()\n",
    "clf.fit(features_train, labels_train)\n",
    "print(\"training time:\", round(time()-t0, 3), \"s\")\n",
    "\n",
    "t0 = time()\n",
    "pred = clf.predict(features_test)\n",
    "print(\"predicting time:\", round(time()-t0, 3), \"s\")\n",
    "\n",
    "from sklearn.metrics import accuracy_score\n",
    "accuracy = accuracy_score(labels_test, pred)\n",
    "print(accuracy)\n",
    "\n",
    "#########################################################"
   ]
  }
 ],
 "metadata": {
  "colab": {
   "default_view": {},
   "name": "email_GaussianNB.ipynb",
   "provenance": [],
   "version": "0.3.2",
   "views": {}
  },
  "kernelspec": {
   "display_name": "Python 2",
   "language": "python",
   "name": "python2"
  },
  "language_info": {
   "codemirror_mode": {
    "name": "ipython",
    "version": 2
   },
   "file_extension": ".py",
   "mimetype": "text/x-python",
   "name": "python",
   "nbconvert_exporter": "python",
   "pygments_lexer": "ipython2",
   "version": "2.7.13"
  }
 },
 "nbformat": 4,
 "nbformat_minor": 2
}
