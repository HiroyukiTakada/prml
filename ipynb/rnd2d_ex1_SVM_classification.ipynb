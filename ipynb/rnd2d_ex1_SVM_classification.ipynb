{
 "cells": [
  {
   "cell_type": "code",
   "execution_count": null,
   "metadata": {
    "colab": {
     "autoexec": {
      "startup": false,
      "wait_interval": 0
     }
    },
    "colab_type": "code",
    "id": "2Xf5xoadG9Z0"
   },
   "outputs": [],
   "source": [
    "%matplotlib inline"
   ]
  },
  {
   "cell_type": "markdown",
   "metadata": {
    "colab_type": "text",
    "id": "UW1hl94VG9Z8"
   },
   "source": [
    "Classification by SVM of a 2D data set\n",
    "==================="
   ]
  },
  {
   "cell_type": "markdown",
   "metadata": {
    "colab_type": "text",
    "id": "PCg8jJ2AG9aH"
   },
   "source": [
    "Define functions\n",
    "----------------"
   ]
  },
  {
   "cell_type": "code",
   "execution_count": null,
   "metadata": {
    "colab": {
     "autoexec": {
      "startup": false,
      "wait_interval": 0
     }
    },
    "colab_type": "code",
    "id": "-PbAn1DPG9aX"
   },
   "outputs": [],
   "source": [
    "import numpy as np\n",
    "from matplotlib import pyplot as plt\n",
    "# Visualization of the decision boundary and regions\n",
    "def plot2d_classification(decision_function, X_train, y_train, X_test=None, y_test=None, w=None, cmap=plt.cm.bwr, xlim=None, ylim=None, levels=None, colors='k', linestyles=None):\n",
    "\n",
    "    plt.figure()\n",
    "    ax = plt.axes()\n",
    "\n",
    "    if xlim is None:\n",
    "        xlim = [X_train[:, 0].min() - .5, X_train[:, 0].max() + .5]\n",
    "    if ylim is None:\n",
    "        ylim = [X_train[:, 1].min() - .5, X_train[:, 1].max() + .5]\n",
    "\n",
    "    xx, yy = np.meshgrid(np.arange(xlim[0], xlim[1], 0.02), np.arange(ylim[0], ylim[1], 0.02))    \n",
    "\n",
    "    # Show prediction (P(y=1 | X) by color by assigning a color to each point in the mesh [x_min, x_max]x[y_min, y_max].\n",
    "    Z = decision_function(np.c_[xx.ravel(), yy.ravel()])\n",
    "    # Put the result into a color plot\n",
    "    Z = Z.reshape(xx.shape)\n",
    "    if levels is not None:\n",
    "        ax.contour(xx, yy, Z, levels=levels, colors=colors, linestyles=linestyles, alpha=0.5)\n",
    "    else:\n",
    "        ax.pcolor(xx, yy, Z, cmap=cmap, alpha=0.1, edgecolors=None)\n",
    "\n",
    "    # Plot the decision boundary\n",
    "    if w is not None:\n",
    "        x0 = np.linspace(xx.min(), xx.max(), 100)\n",
    "        x1 = -(w[0] + w[1] * x0) / w[2] \n",
    "        cnd = np.logical_and(x1<yy.max(), x1>yy.min())\n",
    "        plt.plot(x0[cnd], x1[cnd], 'k-')\n",
    "\n",
    "    # Plot also the training points\n",
    "    ax.scatter(X_train[:, 0], X_train[:, 1], c=y_train, cmap=cmap, edgecolors='k', label='Training data', alpha=1)\n",
    "    # and testing points if given\n",
    "    if X_test is not None and y_test is not None:\n",
    "        ax.scatter(X_test[:, 0], X_test[:, 1], c=y_test, cmap=cmap, edgecolors='k',label='Test data', marker='x', alpha=0.3)\n",
    "        plt.legend(loc=\"upper right\", fontsize=16, frameon=True)\n",
    "        ax.get_legend().legendHandles[0].set_color('k')\n",
    "        ax.get_legend().legendHandles[1].set_color('k')\n",
    "\n",
    "    ax.set_xlim(xx.min(), xx.max())\n",
    "    ax.set_ylim(yy.min(), yy.max())\n",
    "    plt.axis('tight')\n",
    "    plt.xlabel('x1', fontsize=16)\n",
    "    plt.ylabel('x2', fontsize=16)\n",
    "    plt.xticks(fontsize=16)\n",
    "    plt.yticks(fontsize=16)\n",
    "    plt.gca().set_aspect('equal')\n",
    "    plt.tight_layout()"
   ]
  },
  {
   "cell_type": "code",
   "execution_count": null,
   "metadata": {
    "colab": {
     "autoexec": {
      "startup": false,
      "wait_interval": 0
     }
    },
    "colab_type": "code",
    "id": "ipB5Si9gKeAO"
   },
   "outputs": [],
   "source": [
    "def  histogram_predict(decision_function, X_train, y_train, X_test=None, y_test=None, bins=None, normed=False):\n",
    "    if bins is None:\n",
    "        bins = len(y_train) // 4\n",
    "    plt.figure()\n",
    "    ax = plt.axes()\n",
    "    pred = decision_function(X_train)\n",
    "    plt.hist( [ pred[y_train>0], pred[y_train<=0] ], bins=bins, histtype='stepfilled', normed=normed, alpha=0.5, color=['r', 'b'], label=['$y=+1$', '$y=-1$'])\n",
    "    if X_test is not None and y_test is not None:\n",
    "        pred = decision_function(X_test)\n",
    "        plt.hist( [ pred[y_test>0], pred[y_test<=0] ], bins=bins, histtype='stepfilled', normed=normed, alpha=0.3, color=['r', 'b'], label=['$y_{test}=+1$', '$y_{test}=-1$'])\n",
    "    plt.xlabel(\"$g(x)$\", fontsize=16)\n",
    "    plt.ylabel(\"Frequency\", fontsize=16)\n",
    "    plt.legend(loc=\"upper right\", fontsize=16, frameon=True)\n",
    "    plt.axis('tight')\n",
    "    plt.xticks(fontsize=16)\n",
    "    plt.yticks(fontsize=16)\n",
    "    from matplotlib.ticker import FormatStrFormatter\n",
    "    plt.gca().yaxis.set_major_formatter(FormatStrFormatter('%1.0f'))\n",
    "    plt.tight_layout()"
   ]
  },
  {
   "cell_type": "markdown",
   "metadata": {
    "colab_type": "text",
    "id": "obFLzXN6G9Z_"
   },
   "source": [
    "Make training data\n",
    "------------------"
   ]
  },
  {
   "cell_type": "code",
   "execution_count": null,
   "metadata": {
    "colab": {
     "autoexec": {
      "startup": false,
      "wait_interval": 0
     }
    },
    "colab_type": "code",
    "id": "aQWiGCU0G9aA"
   },
   "outputs": [],
   "source": [
    "# Example 1: define manually\n",
    "X = np.array([[0, 0], [1,0], [0,1], [1,1]])\n",
    "y = np.array([-1,1,1,1])"
   ]
  },
  {
   "cell_type": "code",
   "execution_count": null,
   "metadata": {
    "colab": {
     "autoexec": {
      "startup": false,
      "wait_interval": 0
     }
    },
    "colab_type": "code",
    "id": "qPcFoZwoU2fp"
   },
   "outputs": [],
   "source": [
    "# Example 2: draw npos and nneg points from the Gaussian distribution for each class\n",
    "npos = 30\n",
    "nneg = 30\n",
    "np.random.seed(321)\n",
    "X = np.r_[np.random.randn(npos, 2) + [3, 3], np.random.randn(nneg, 2)]\n",
    "# [1,1,...,1,-1,-1,...,-1]\n",
    "y = np.array([1] * npos + [-1] * nneg)"
   ]
  },
  {
   "cell_type": "code",
   "execution_count": null,
   "metadata": {
    "colab": {
     "autoexec": {
      "startup": false,
      "wait_interval": 0
     }
    },
    "colab_type": "code",
    "id": "IAcLs8fxU3b8"
   },
   "outputs": [],
   "source": [
    "# Example 3: create moons using sklearn\n",
    "from sklearn.datasets import make_moons\n",
    "X, y = make_moons(n_samples=100, noise=0.3, random_state=0)\n",
    "y[y==0] = -1"
   ]
  },
  {
   "cell_type": "code",
   "execution_count": null,
   "metadata": {},
   "outputs": [],
   "source": [
    "# Example 4: create moons using sklearn\n",
    "from sklearn.datasets import make_circles\n",
    "X, y = make_circles(n_samples=150, noise=0.1, random_state=0, factor=0.5)\n",
    "y[y==0] = -1"
   ]
  },
  {
   "cell_type": "markdown",
   "metadata": {
    "colab_type": "text",
    "id": "tbqXssHcU5Is"
   },
   "source": [
    "Plot the training points"
   ]
  },
  {
   "cell_type": "code",
   "execution_count": null,
   "metadata": {
    "colab": {
     "autoexec": {
      "startup": false,
      "wait_interval": 0
     },
     "base_uri": "https://localhost:8080/",
     "height": 296
    },
    "colab_type": "code",
    "executionInfo": {
     "elapsed": 634,
     "status": "ok",
     "timestamp": 1525224201752,
     "user": {
      "displayName": "Tomoya Sakai",
      "photoUrl": "//lh4.googleusercontent.com/-A3xDIZwspwc/AAAAAAAAAAI/AAAAAAAAAJM/euJbBfWvU38/s50-c-k-no/photo.jpg",
      "userId": "116384580095209155593"
     },
     "user_tz": -540
    },
    "id": "cl-028CoG9aE",
    "outputId": "dc424f46-facc-4f95-bb1f-6e38c431d5e1"
   },
   "outputs": [],
   "source": [
    "# Plot the training points\n",
    "plt.figure()\n",
    "plt.scatter(X[:, 0], X[:, 1], c=y, cmap=plt.cm.bwr)\n",
    "plt.xlabel('x1')\n",
    "plt.ylabel('x2')\n",
    "plt.gca().set_aspect('equal')"
   ]
  },
  {
   "cell_type": "markdown",
   "metadata": {
    "colab_type": "text",
    "id": "pT0P8z26G9aT"
   },
   "source": [
    "Run the training\n",
    "----------------"
   ]
  },
  {
   "cell_type": "code",
   "execution_count": null,
   "metadata": {
    "colab": {
     "autoexec": {
      "startup": false,
      "wait_interval": 0
     },
     "base_uri": "https://localhost:8080/",
     "height": 34
    },
    "colab_type": "code",
    "executionInfo": {
     "elapsed": 612,
     "status": "ok",
     "timestamp": 1525224209524,
     "user": {
      "displayName": "Tomoya Sakai",
      "photoUrl": "//lh4.googleusercontent.com/-A3xDIZwspwc/AAAAAAAAAAI/AAAAAAAAAJM/euJbBfWvU38/s50-c-k-no/photo.jpg",
      "userId": "116384580095209155593"
     },
     "user_tz": -540
    },
    "id": "OA7s-t0MG9ae",
    "outputId": "c35d0a78-8fba-4401-a5cd-a7385162d9b6"
   },
   "outputs": [],
   "source": [
    "# Linear SVM\n",
    "from sklearn.svm import SVC\n",
    "\n",
    "model = SVC(kernel='linear', C=10)\n",
    "model.fit(X,y)\n",
    "\n",
    "w = np.c_[model.intercept_, model.coef_].ravel()\n",
    "print(w)"
   ]
  },
  {
   "cell_type": "code",
   "execution_count": null,
   "metadata": {
    "colab": {
     "autoexec": {
      "startup": false,
      "wait_interval": 0
     },
     "base_uri": "https://localhost:8080/",
     "height": 577
    },
    "colab_type": "code",
    "executionInfo": {
     "elapsed": 1192,
     "status": "ok",
     "timestamp": 1525224211029,
     "user": {
      "displayName": "Tomoya Sakai",
      "photoUrl": "//lh4.googleusercontent.com/-A3xDIZwspwc/AAAAAAAAAAI/AAAAAAAAAJM/euJbBfWvU38/s50-c-k-no/photo.jpg",
      "userId": "116384580095209155593"
     },
     "user_tz": -540
    },
    "id": "eIQAY-CgG9ah",
    "outputId": "3b210226-e123-4ab0-a40d-83346db0e827"
   },
   "outputs": [],
   "source": [
    "# Visualize the decision boundary and margin\n",
    "plot2d_classification(lambda X: model.decision_function(X), X, y, w=w, levels=[-1,0,1], linestyles=['--', '-', '--'])\n",
    "plt.savefig('linear_svm.png', transparent=True)\n",
    "histogram_predict(lambda X: model.decision_function(X), X, y)\n",
    "plt.savefig('hist_linear_svm.png', transparent=True)"
   ]
  },
  {
   "cell_type": "code",
   "execution_count": null,
   "metadata": {
    "colab": {
     "autoexec": {
      "startup": false,
      "wait_interval": 0
     },
     "base_uri": "https://localhost:8080/",
     "height": 85
    },
    "colab_type": "code",
    "executionInfo": {
     "elapsed": 597,
     "status": "ok",
     "timestamp": 1525224212368,
     "user": {
      "displayName": "Tomoya Sakai",
      "photoUrl": "//lh4.googleusercontent.com/-A3xDIZwspwc/AAAAAAAAAAI/AAAAAAAAAJM/euJbBfWvU38/s50-c-k-no/photo.jpg",
      "userId": "116384580095209155593"
     },
     "user_tz": -540
    },
    "id": "WhCYgg9A26yY",
    "outputId": "8975b2df-82f1-45d5-de5e-230e52301797"
   },
   "outputs": [],
   "source": [
    "# Nonlinear SVM\n",
    "model = SVC(kernel='rbf', C=1)                     # try C=0.1, 1, 10, 100, etc\n",
    "#model = SVC(kernel='poly', degree=5, C=100)  # try degree=1, 2, 3, ..., 10, etc\n",
    "model.fit(X,y)"
   ]
  },
  {
   "cell_type": "code",
   "execution_count": null,
   "metadata": {
    "colab": {
     "autoexec": {
      "startup": false,
      "wait_interval": 0
     },
     "base_uri": "https://localhost:8080/",
     "height": 577
    },
    "colab_type": "code",
    "executionInfo": {
     "elapsed": 956,
     "status": "ok",
     "timestamp": 1525224213934,
     "user": {
      "displayName": "Tomoya Sakai",
      "photoUrl": "//lh4.googleusercontent.com/-A3xDIZwspwc/AAAAAAAAAAI/AAAAAAAAAJM/euJbBfWvU38/s50-c-k-no/photo.jpg",
      "userId": "116384580095209155593"
     },
     "user_tz": -540
    },
    "id": "lUVP4jZM3i1y",
    "outputId": "0a3ba71a-0174-43f2-960d-b298110af038"
   },
   "outputs": [],
   "source": [
    "# Visualize the decision boundary and margin\n",
    "plot2d_classification(lambda X: model.decision_function(X), X, y, levels=[-1,0,1], linestyles=['--', '-', '--'])\n",
    "plt.savefig('nonlinear_svm.png', transparent=True)\n",
    "histogram_predict(lambda X: model.decision_function(X), X, y)\n",
    "plt.savefig('hist_nonlinear_svm.png', transparent=True)"
   ]
  }
 ],
 "metadata": {
  "colab": {
   "collapsed_sections": [],
   "default_view": {},
   "name": "rnd2d_ex1_SVM_classification.ipynb",
   "provenance": [
    {
     "file_id": "16Glb7Gq8kYxLA3b1TC6M2693YNV6acTF",
     "timestamp": 1524836662602
    }
   ],
   "version": "0.3.2",
   "views": {}
  },
  "kernelspec": {
   "display_name": "Python 3",
   "language": "python",
   "name": "python3"
  },
  "language_info": {
   "codemirror_mode": {
    "name": "ipython",
    "version": 3
   },
   "file_extension": ".py",
   "mimetype": "text/x-python",
   "name": "python",
   "nbconvert_exporter": "python",
   "pygments_lexer": "ipython3",
   "version": "3.6.1"
  }
 },
 "nbformat": 4,
 "nbformat_minor": 2
}
