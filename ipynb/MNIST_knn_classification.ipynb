{
 "cells": [
  {
   "cell_type": "code",
   "execution_count": null,
   "metadata": {
    "colab": {
     "autoexec": {
      "startup": false,
      "wait_interval": 0
     }
    },
    "colab_type": "code",
    "id": "YxG9BhBAn2nx"
   },
   "outputs": [],
   "source": [
    "%matplotlib inline"
   ]
  },
  {
   "cell_type": "markdown",
   "metadata": {
    "colab_type": "text",
    "id": "UTNIg2oEn2n8"
   },
   "source": [
    "\n",
    "Nearest neighbor classification of the MNIST digits dataset\n",
    "=============================================================\n",
    "\n",
    "Plot the first few samples of the digits dataset, then perform the k-nearest neibor classification\n",
    "\n"
   ]
  },
  {
   "cell_type": "code",
   "execution_count": null,
   "metadata": {
    "colab": {
     "autoexec": {
      "startup": false,
      "wait_interval": 0
     }
    },
    "colab_type": "code",
    "id": "SmeXiuhWn2n-"
   },
   "outputs": [],
   "source": [
    "import numpy as np\n",
    "from sklearn.datasets import fetch_mldata\n",
    "digits = fetch_mldata('MNIST original')\n",
    "digits.images = np.reshape(digits.data, (digits.data.shape[0],28,28))\n",
    "digits.target = np.int64(digits.target)"
   ]
  },
  {
   "cell_type": "markdown",
   "metadata": {
    "colab_type": "text",
    "id": "FWmkMoJrn2oH"
   },
   "source": [
    "Plot the data: images of digits\n",
    "-------------------------------\n",
    "\n",
    "Each data in a 8x8 image\n",
    "\n"
   ]
  },
  {
   "cell_type": "code",
   "execution_count": null,
   "metadata": {
    "colab": {
     "autoexec": {
      "startup": false,
      "wait_interval": 0
     },
     "base_uri": "https://localhost:8080/",
     "height": 480
    },
    "colab_type": "code",
    "executionInfo": {
     "elapsed": 4311,
     "status": "ok",
     "timestamp": 1523770769815,
     "user": {
      "displayName": "Tomoya Sakai",
      "photoUrl": "//lh4.googleusercontent.com/-A3xDIZwspwc/AAAAAAAAAAI/AAAAAAAAAJM/euJbBfWvU38/s50-c-k-no/photo.jpg",
      "userId": "116384580095209155593"
     },
     "user_tz": -540
    },
    "id": "E7Ib1PU2n2oK",
    "outputId": "5fc5a4e3-fe62-4c97-f884-1ba46fb31782"
   },
   "outputs": [],
   "source": [
    "from matplotlib import pyplot as plt\n",
    "fig = plt.figure(figsize=(6, 6))  # figure size in inches\n",
    "fig.subplots_adjust(left=0, right=1, bottom=0, top=1, hspace=0.05, wspace=0.05)\n",
    "print(\"%d images\" % len(digits.target))\n",
    "\n",
    "p = np.random.randint(0, len(digits.data), 64)\n",
    "for i in range(64):\n",
    "    ax = fig.add_subplot(8, 8, i + 1, xticks=[], yticks=[])\n",
    "    ax.imshow(digits.images[p[i]], cmap=plt.cm.gray, interpolation='nearest')\n",
    "    # label the image with the target value\n",
    "    ax.text(0, 7, str(digits.target[p[i]]), color='white')"
   ]
  },
  {
   "cell_type": "markdown",
   "metadata": {
    "colab_type": "text",
    "id": "UQFrBwjAn2oS"
   },
   "source": [
    "Classify with k-nearest neighbors\n",
    "----------------------------------\n",
    "\n"
   ]
  },
  {
   "cell_type": "code",
   "execution_count": null,
   "metadata": {
    "colab": {
     "autoexec": {
      "startup": false,
      "wait_interval": 0
     },
     "base_uri": "https://localhost:8080/",
     "height": 480
    },
    "colab_type": "code",
    "executionInfo": {
     "elapsed": 69294,
     "status": "ok",
     "timestamp": 1523769632997,
     "user": {
      "displayName": "Tomoya Sakai",
      "photoUrl": "//lh4.googleusercontent.com/-A3xDIZwspwc/AAAAAAAAAAI/AAAAAAAAAJM/euJbBfWvU38/s50-c-k-no/photo.jpg",
      "userId": "116384580095209155593"
     },
     "user_tz": -540
    },
    "id": "EgIqtl7Yn2oU",
    "outputId": "5d8ec54c-11e2-4be5-cbbd-3ff4f552633e"
   },
   "outputs": [],
   "source": [
    "from sklearn import neighbors, datasets\n",
    "from sklearn.model_selection import train_test_split\n",
    "\n",
    "# split the data into training and validation sets\n",
    "X_train, X_test, y_train, y_test = train_test_split(digits.data, digits.target, test_size=200)\n",
    "\n",
    "# train the model\n",
    "k = 7   # try k = 1, 3, 7, 15, 31\n",
    "clf = neighbors.KNeighborsClassifier(n_neighbors = k)\n",
    "clf.fit(X_train, y_train)\n",
    "\n",
    "# use the model to predict the labels of the test data\n",
    "predicted = clf.predict(X_test)\n",
    "expected = y_test\n",
    "\n",
    "# Plot the prediction\n",
    "fig = plt.figure(figsize=(6, 6))  # figure size in inches\n",
    "fig.subplots_adjust(left=0, right=1, bottom=0, top=1, hspace=0.05, wspace=0.05)\n",
    "\n",
    "# plot the digits\n",
    "for i in range(64):\n",
    "    ax = fig.add_subplot(8, 8, i + 1, xticks=[], yticks=[])\n",
    "    ax.imshow(X_test.reshape(-1, digits.images.shape[1], digits.images.shape[2])[i], cmap=plt.cm.gray,\n",
    "              interpolation='nearest')\n",
    "\n",
    "    # label the image with the target value\n",
    "    ax.text(0, 7, str(expected[i]), color='white')\n",
    "    if predicted[i] == expected[i]:\n",
    "        ax.text(21, 7, str(predicted[i]), color='#a0ffa0')\n",
    "    else:\n",
    "        ax.text(21, 7, str(predicted[i]), color='red')\n",
    "\n",
    "# the number of correct matches / the total number of data points\n",
    "matches = (predicted == expected)\n",
    "print(\"%d / %d = %2.1f %%\" % (matches.sum(), len(matches), 100*matches.sum()/float(len(matches))))"
   ]
  },
  {
   "cell_type": "markdown",
   "metadata": {
    "colab_type": "text",
    "id": "hBV1KmWTn2oa"
   },
   "source": [
    "Quantify the performance detail\n",
    "------------------------\n",
    "\n"
   ]
  },
  {
   "cell_type": "markdown",
   "metadata": {
    "colab_type": "text",
    "id": "q8Q9Hvw3n2oc"
   },
   "source": [
    "Print the classification report\n",
    "\n"
   ]
  },
  {
   "cell_type": "code",
   "execution_count": null,
   "metadata": {
    "colab": {
     "autoexec": {
      "startup": false,
      "wait_interval": 0
     },
     "base_uri": "https://localhost:8080/",
     "height": 272
    },
    "colab_type": "code",
    "executionInfo": {
     "elapsed": 681,
     "status": "ok",
     "timestamp": 1523754088479,
     "user": {
      "displayName": "Tomoya Sakai",
      "photoUrl": "//lh4.googleusercontent.com/-A3xDIZwspwc/AAAAAAAAAAI/AAAAAAAAAJM/euJbBfWvU38/s50-c-k-no/photo.jpg",
      "userId": "116384580095209155593"
     },
     "user_tz": -540
    },
    "id": "is9z76Bdn2oe",
    "outputId": "4484f451-9ead-4a48-ba1d-39d5f179b168"
   },
   "outputs": [],
   "source": [
    "from sklearn import metrics\n",
    "print(metrics.classification_report(expected, predicted))"
   ]
  },
  {
   "cell_type": "markdown",
   "metadata": {
    "colab_type": "text",
    "id": "Bxmi8yOgn2on"
   },
   "source": [
    "Print the confusion matrix\n",
    "\n"
   ]
  },
  {
   "cell_type": "code",
   "execution_count": null,
   "metadata": {
    "colab": {
     "autoexec": {
      "startup": false,
      "wait_interval": 0
     },
     "base_uri": "https://localhost:8080/",
     "height": 187
    },
    "colab_type": "code",
    "executionInfo": {
     "elapsed": 633,
     "status": "ok",
     "timestamp": 1523753936596,
     "user": {
      "displayName": "Tomoya Sakai",
      "photoUrl": "//lh4.googleusercontent.com/-A3xDIZwspwc/AAAAAAAAAAI/AAAAAAAAAJM/euJbBfWvU38/s50-c-k-no/photo.jpg",
      "userId": "116384580095209155593"
     },
     "user_tz": -540
    },
    "id": "bRUeztQpn2op",
    "outputId": "cf4accb6-a110-4489-ad9b-003548b8300c"
   },
   "outputs": [],
   "source": [
    "print(metrics.confusion_matrix(expected, predicted))\n",
    "\n",
    "plt.show()"
   ]
  }
 ],
 "metadata": {
  "colab": {
   "collapsed_sections": [],
   "default_view": {},
   "name": "MNIST_knn_classification.ipynb",
   "provenance": [],
   "version": "0.3.2",
   "views": {}
  },
  "kernelspec": {
   "display_name": "Python 2",
   "language": "python",
   "name": "python2"
  },
  "language_info": {
   "codemirror_mode": {
    "name": "ipython",
    "version": 2
   },
   "file_extension": ".py",
   "mimetype": "text/x-python",
   "name": "python",
   "nbconvert_exporter": "python",
   "pygments_lexer": "ipython2",
   "version": "2.7.13"
  }
 },
 "nbformat": 4,
 "nbformat_minor": 2
}
