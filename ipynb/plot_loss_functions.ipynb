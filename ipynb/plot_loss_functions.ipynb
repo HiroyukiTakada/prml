{
 "cells": [
  {
   "cell_type": "code",
   "execution_count": null,
   "metadata": {
    "colab": {
     "autoexec": {
      "startup": false,
      "wait_interval": 0
     }
    },
    "colab_type": "code",
    "id": "jHMv0DESWF6t"
   },
   "outputs": [],
   "source": [
    "%matplotlib inline"
   ]
  },
  {
   "cell_type": "markdown",
   "metadata": {
    "colab_type": "text",
    "id": "m1UUR_l3WF6y"
   },
   "source": [
    "Plot loss functions\n",
    "==========================\n",
    "http://scikit-learn.org/stable/auto_examples/linear_model/plot_sgd_loss_functions.html"
   ]
  },
  {
   "cell_type": "code",
   "execution_count": null,
   "metadata": {
    "colab": {
     "autoexec": {
      "startup": false,
      "wait_interval": 0
     }
    },
    "colab_type": "code",
    "id": "YLUAB_9KWF6z"
   },
   "outputs": [],
   "source": [
    "import numpy as np\n",
    "def LogisticLoss(g):\n",
    "    return np.log(1 + np.exp(-g))\n",
    "\n",
    "\n",
    "def HingeLoss(g):\n",
    "    return np.where(g < 1.0, 1.0 - g, 0)  # g<1.0 ? 1.0-g: 0;\n",
    "\n",
    "\n",
    "def SquaredLoss(g):\n",
    "    return 0.5 * (1.0 - g)**2"
   ]
  },
  {
   "cell_type": "code",
   "execution_count": null,
   "metadata": {
    "colab": {
     "autoexec": {
      "startup": false,
      "wait_interval": 0
     }
    },
    "colab_type": "code",
    "id": "GRQwPLLDWF61"
   },
   "outputs": [],
   "source": [
    "import numpy as np\n",
    "\n",
    "import matplotlib.pyplot as plt\n",
    "import matplotlib.ticker as ticker\n",
    "\n",
    "xmin, xmax = -3, 3\n",
    "gx = np.linspace(xmin, xmax, 100)\n",
    "lw = 2\n",
    "plt.plot([xmin, 0, 0, xmax], [1, 1, 0, 0], color='gold', lw=lw, label=\"Zero-one loss\")\n",
    "plt.plot(gx, LogisticLoss(gx), color='cornflowerblue', lw=lw, label=\"Logistic loss\")\n",
    "plt.plot(gx, HingeLoss(gx), color='red', lw=lw, label=\"Hinge loss\")\n",
    "plt.plot(gx, SquaredLoss(gx), color='gray', ls='--', lw=lw/2, label=\"Squared loss\")\n",
    "\n",
    "plt.xlim(xmin, xmax)\n",
    "plt.ylim(0, 4)\n",
    "plt.grid(True, ls='--', lw=0.2)\n",
    "plt.legend(loc=\"upper right\", fontsize=16)\n",
    "plt.xlabel(\"$g(x)$\", fontsize=20)\n",
    "plt.ylabel(\"loss$(y=1, g(x))$\", fontsize=20)\n",
    "plt.xticks(fontsize=20)\n",
    "plt.yticks(fontsize=20)\n",
    "ax = plt.axes()\n",
    "ax.set_aspect('equal')\n",
    "ax.xaxis.set_major_locator(ticker.MultipleLocator(1))\n",
    "ax.yaxis.set_major_locator(ticker.MultipleLocator(1))\n",
    "plt.tight_layout()\n",
    "\n",
    "plt.savefig('loss_functions.png', transparent=True)\n",
    "plt.show()"
   ]
  }
 ],
 "metadata": {
  "colab": {
   "default_view": {},
   "name": "plot_loss_functions.ipynb",
   "provenance": [],
   "version": "0.3.2",
   "views": {}
  },
  "kernelspec": {
   "display_name": "Python 3",
   "language": "python",
   "name": "python3"
  },
  "language_info": {
   "codemirror_mode": {
    "name": "ipython",
    "version": 3
   },
   "file_extension": ".py",
   "mimetype": "text/x-python",
   "name": "python",
   "nbconvert_exporter": "python",
   "pygments_lexer": "ipython3",
   "version": "3.6.1"
  }
 },
 "nbformat": 4,
 "nbformat_minor": 2
}
