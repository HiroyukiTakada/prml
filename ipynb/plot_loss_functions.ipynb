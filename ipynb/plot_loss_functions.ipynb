{
 "cells": [
  {
   "cell_type": "code",
   "execution_count": null,
   "metadata": {
    "collapsed": false
   },
   "outputs": [],
   "source": [
    "%matplotlib inline"
   ]
  },
  {
   "cell_type": "markdown",
   "metadata": {},
   "source": [
    "Plot loss functions\n",
    "==========================\n",
    "http://scikit-learn.org/stable/auto_examples/linear_model/plot_sgd_loss_functions.html"
   ]
  },
  {
   "cell_type": "code",
   "execution_count": null,
   "metadata": {},
   "outputs": [],
   "source": [
    "def LogisticLoss(g):\n",
    "    return np.log2(1 + np.exp(-g))\n",
    "\n",
    "\n",
    "def HingeLoss(g):\n",
    "    return np.where(g < 1.0, 1.0 - g, 0)  # g<1.0 ? 1.0-g: 0;\n",
    "\n",
    "\n",
    "def SquaredLoss(g):\n",
    "    return 0.5 * (1.0 - g)**2"
   ]
  },
  {
   "cell_type": "code",
   "execution_count": null,
   "metadata": {
    "collapsed": false
   },
   "outputs": [],
   "source": [
    "import numpy as np\n",
    "\n",
    "import matplotlib.pyplot as plt\n",
    "import matplotlib.ticker as ticker\n",
    "\n",
    "xmin, xmax = -3, 3\n",
    "xx = np.linspace(xmin, xmax, 100)\n",
    "lw = 2\n",
    "plt.plot([xmin, 0, 0, xmax], [1, 1, 0, 0], color='gold', lw=lw, label=\"Zero-one loss\")\n",
    "plt.plot(xx, LogisticLoss(xx), color='cornflowerblue', lw=lw, label=\"Logistic loss\")\n",
    "plt.plot(xx, HingeLoss(xx), color='red', lw=lw, label=\"Hinge loss\")\n",
    "plt.plot(xx, SquaredLoss(xx), color='gray', ls='--', lw=lw/2, label=\"Squared loss\")\n",
    "\n",
    "plt.xlim(xmin, xmax)\n",
    "plt.ylim(0, 4)\n",
    "plt.grid(True, ls='--', lw=0.2)\n",
    "plt.legend(loc=\"upper right\", fontsize=16)\n",
    "plt.xlabel(\"$g(x)$\", fontsize=20)\n",
    "plt.ylabel(\"loss$(y=1, g(x))$\", fontsize=20)\n",
    "plt.xticks(fontsize=20)\n",
    "plt.yticks(fontsize=20)\n",
    "ax = plt.axes()\n",
    "ax.set_aspect('equal')\n",
    "ax.xaxis.set_major_locator(ticker.MultipleLocator(1))\n",
    "ax.yaxis.set_major_locator(ticker.MultipleLocator(1))\n",
    "plt.tight_layout()\n",
    "\n",
    "plt.savefig('loss_functions.png', transparent=True)\n",
    "plt.show()"
   ]
  }
 ],
 "metadata": {
  "kernelspec": {
   "display_name": "Python 2",
   "language": "python",
   "name": "python2"
  },
  "language_info": {
   "codemirror_mode": {
    "name": "ipython",
    "version": 2
   },
   "file_extension": ".py",
   "mimetype": "text/x-python",
   "name": "python",
   "nbconvert_exporter": "python",
   "pygments_lexer": "ipython2",
   "version": "2.7.13"
  }
 },
 "nbformat": 4,
 "nbformat_minor": 2
}
